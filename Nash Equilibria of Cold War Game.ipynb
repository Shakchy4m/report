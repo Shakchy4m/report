{
 "cells": [
  {
   "cell_type": "code",
   "execution_count": 2,
   "metadata": {},
   "outputs": [],
   "source": [
    "## Importing libraries\n",
    "import numpy as np \n",
    "import nashpy as nash"
   ]
  },
  {
   "cell_type": "code",
   "execution_count": 15,
   "metadata": {},
   "outputs": [],
   "source": [
    "## Defining payoff matrices\n",
    "A = np.array([[0,1],[-100, 2]])\n",
    "B = np.transpose(A)"
   ]
  },
  {
   "cell_type": "code",
   "execution_count": 16,
   "metadata": {},
   "outputs": [
    {
     "data": {
      "text/plain": [
       "Bi matrix game with payoff matrices:\n",
       "\n",
       "Row player:\n",
       "[[   0    1]\n",
       " [-100    2]]\n",
       "\n",
       "Column player:\n",
       "[[   0 -100]\n",
       " [   1    2]]"
      ]
     },
     "execution_count": 16,
     "metadata": {},
     "output_type": "execute_result"
    }
   ],
   "source": [
    "## Creating the Game object\n",
    "cold_war = nash.Game(A,B)\n",
    "cold_war"
   ]
  },
  {
   "cell_type": "code",
   "execution_count": 19,
   "metadata": {},
   "outputs": [
    {
     "name": "stdout",
     "output_type": "stream",
     "text": [
      "(array([1., 0.]), array([1., 0.]))\n",
      "(array([0., 1.]), array([0., 1.]))\n",
      "(array([0.00990099, 0.99009901]), array([0.00990099, 0.99009901]))\n"
     ]
    }
   ],
   "source": [
    "## Solving with support enumeration\n",
    "equilibrium = cold_war.support_enumeration()\n",
    "\n",
    "## printing equilibrium\n",
    "for eq in equilibrium:\n",
    "    print(eq)"
   ]
  },
  {
   "cell_type": "code",
   "execution_count": 22,
   "metadata": {},
   "outputs": [],
   "source": [
    "## The first two are the pure NE\n",
    "## The last one is the mixed NE with p(N) = 1/101 "
   ]
  },
  {
   "cell_type": "code",
   "execution_count": 49,
   "metadata": {},
   "outputs": [],
   "source": [
    "import matplotlib.pyplot as plt\n",
    "from mpl_toolkits import mplot3d"
   ]
  },
  {
   "cell_type": "code",
   "execution_count": 85,
   "metadata": {},
   "outputs": [],
   "source": [
    "# Defining the range of c1 and c2\n",
    "c1 = np.linspace(-0.01,-100, 100)\n",
    "c2 = np.linspace(-0.01,-20, 15)\n",
    "\n",
    "C1, C2 = np.meshgrid(c1,c2)"
   ]
  },
  {
   "cell_type": "code",
   "execution_count": 86,
   "metadata": {},
   "outputs": [],
   "source": [
    "# defining function that returns the probability\n",
    "def find_ne_prob(c1, c2):\n",
    "    A = np.array([[0,1],[c1, 2]])\n",
    "    B = np.array([[0, c2],[1,2]])\n",
    "    cold_war = nash.Game(A,B)\n",
    "    eq = list(cold_war.support_enumeration())    \n",
    "    return eq[2][0][0]"
   ]
  },
  {
   "cell_type": "code",
   "execution_count": 87,
   "metadata": {},
   "outputs": [
    {
     "data": {
      "text/plain": [
       "0.009900990099009901"
      ]
     },
     "execution_count": 87,
     "metadata": {},
     "output_type": "execute_result"
    }
   ],
   "source": [
    "# check \n",
    "find_ne_prob(-100,-100)"
   ]
  },
  {
   "cell_type": "code",
   "execution_count": 88,
   "metadata": {},
   "outputs": [],
   "source": [
    "# calculaing probabilities\n",
    "    \n",
    "Z = np.zeros((100,2))\n",
    "for i in range(Z.shape[0]):\n",
    "        Z[i,0] = find_ne_prob(c1[i],c1[i])"
   ]
  },
  {
   "cell_type": "code",
   "execution_count": 89,
   "metadata": {},
   "outputs": [
    {
     "data": {
      "text/plain": [
       "[<matplotlib.lines.Line2D at 0x1fde5ad7e80>,\n",
       " <matplotlib.lines.Line2D at 0x1fde5ad7f40>]"
      ]
     },
     "execution_count": 89,
     "metadata": {},
     "output_type": "execute_result"
    },
    {
     "data": {
      "image/png": "[encoded data removed]",
      "text/plain": [
       "<Figure size 432x288 with 1 Axes>"
      ]
     },
     "metadata": {
      "needs_background": "light"
     },
     "output_type": "display_data"
    }
   ],
   "source": [
    "# plotting probs against 1/(-c1+1)\n",
    "\n",
    "for i in range(Z.shape[0]):\n",
    "    Z[i,1] = 1/(-c1[i]+1)\n",
    "\n",
    "fig = plt.figure()\n",
    "ax = plt.axes()\n",
    "ax.set_ylabel(\"p(N)\")\n",
    "ax.set_xlabel(\"Worst case utility\")\n",
    "ax.plot(c1, Z)"
   ]
  },
  {
   "cell_type": "code",
   "execution_count": null,
   "metadata": {},
   "outputs": [],
   "source": []
  }
 ],
 "metadata": {
  "kernelspec": {
   "display_name": "Python 3",
   "language": "python",
   "name": "python3"
  },
  "language_info": {
   "codemirror_mode": {
    "name": "ipython",
    "version": 3
   },
   "file_extension": ".py",
   "mimetype": "text/x-python",
   "name": "python",
   "nbconvert_exporter": "python",
   "pygments_lexer": "ipython3",
   "version": "3.8.5"
  }
 },
 "nbformat": 4,
 "nbformat_minor": 4
}
